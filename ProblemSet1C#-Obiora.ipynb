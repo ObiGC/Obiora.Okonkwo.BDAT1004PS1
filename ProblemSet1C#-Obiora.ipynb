{
 "cells": [
  {
   "cell_type": "markdown",
   "id": "216badf7",
   "metadata": {},
   "source": [
    "1."
   ]
  },
  {
   "cell_type": "markdown",
   "id": "ac826e23",
   "metadata": {},
   "source": [
    "5 - Integer\n",
    "5.0 - Double\n",
    "5 > 1 - Boolean\n",
    "'5' - Character\n",
    "5 * 2 - Integer\n",
    "'5' * 2 - Character\n",
    "'5' + '2' - Character\n",
    "5 / 2 - Double\n",
    "5 % 2 - Integer\n",
    "{5, 2, 1} - list\n",
    "5 == 3 - Boolean\n",
    "Pi (the number) - Float"
   ]
  },
  {
   "cell_type": "markdown",
   "id": "f6e87a07",
   "metadata": {},
   "source": [
    "2a."
   ]
  },
  {
   "cell_type": "code",
   "execution_count": 1,
   "id": "41bdde98",
   "metadata": {},
   "outputs": [
    {
     "data": {
      "text/html": [
       "\r\n",
       "<div>\r\n",
       "    <div id='dotnet-interactive-this-cell-47372.Microsoft.DotNet.Interactive.Http.HttpPort' style='display: none'>\r\n",
       "        The below script needs to be able to find the current output cell; this is an easy method to get it.\r\n",
       "    </div>\r\n",
       "    <script type='text/javascript'>\r\n",
       "async function probeAddresses(probingAddresses) {\r\n",
       "    function timeout(ms, promise) {\r\n",
       "        return new Promise(function (resolve, reject) {\r\n",
       "            setTimeout(function () {\r\n",
       "                reject(new Error('timeout'))\r\n",
       "            }, ms)\r\n",
       "            promise.then(resolve, reject)\r\n",
       "        })\r\n",
       "    }\r\n",
       "\r\n",
       "    if (Array.isArray(probingAddresses)) {\r\n",
       "        for (let i = 0; i < probingAddresses.length; i++) {\r\n",
       "\r\n",
       "            let rootUrl = probingAddresses[i];\r\n",
       "\r\n",
       "            if (!rootUrl.endsWith('/')) {\r\n",
       "                rootUrl = `${rootUrl}/`;\r\n",
       "            }\r\n",
       "\r\n",
       "            try {\r\n",
       "                let response = await timeout(1000, fetch(`${rootUrl}discovery`, {\r\n",
       "                    method: 'POST',\r\n",
       "                    cache: 'no-cache',\r\n",
       "                    mode: 'cors',\r\n",
       "                    timeout: 1000,\r\n",
       "                    headers: {\r\n",
       "                        'Content-Type': 'text/plain'\r\n",
       "                    },\r\n",
       "                    body: probingAddresses[i]\r\n",
       "                }));\r\n",
       "\r\n",
       "                if (response.status == 200) {\r\n",
       "                    return rootUrl;\r\n",
       "                }\r\n",
       "            }\r\n",
       "            catch (e) { }\r\n",
       "        }\r\n",
       "    }\r\n",
       "}\r\n",
       "\r\n",
       "function loadDotnetInteractiveApi() {\r\n",
       "    probeAddresses([\"http://192.168.56.1:1003/\", \"http://192.168.2.20:1003/\", \"http://127.0.0.1:1003/\"])\r\n",
       "        .then((root) => {\r\n",
       "        // use probing to find host url and api resources\r\n",
       "        // load interactive helpers and language services\r\n",
       "        let dotnetInteractiveRequire = require.config({\r\n",
       "        context: '47372.Microsoft.DotNet.Interactive.Http.HttpPort',\r\n",
       "                paths:\r\n",
       "            {\r\n",
       "                'dotnet-interactive': `${root}resources`\r\n",
       "                }\r\n",
       "        }) || require;\r\n",
       "\r\n",
       "            window.dotnetInteractiveRequire = dotnetInteractiveRequire;\r\n",
       "\r\n",
       "            window.configureRequireFromExtension = function(extensionName, extensionCacheBuster) {\r\n",
       "                let paths = {};\r\n",
       "                paths[extensionName] = `${root}extensions/${extensionName}/resources/`;\r\n",
       "                \r\n",
       "                let internalRequire = require.config({\r\n",
       "                    context: extensionCacheBuster,\r\n",
       "                    paths: paths,\r\n",
       "                    urlArgs: `cacheBuster=${extensionCacheBuster}`\r\n",
       "                    }) || require;\r\n",
       "\r\n",
       "                return internalRequire\r\n",
       "            };\r\n",
       "        \r\n",
       "            dotnetInteractiveRequire([\r\n",
       "                    'dotnet-interactive/dotnet-interactive'\r\n",
       "                ],\r\n",
       "                function (dotnet) {\r\n",
       "                    dotnet.init(window);\r\n",
       "                },\r\n",
       "                function (error) {\r\n",
       "                    console.log(error);\r\n",
       "                }\r\n",
       "            );\r\n",
       "        })\r\n",
       "        .catch(error => {console.log(error);});\r\n",
       "    }\r\n",
       "\r\n",
       "// ensure `require` is available globally\r\n",
       "if ((typeof(require) !==  typeof(Function)) || (typeof(require.config) !== typeof(Function))) {\r\n",
       "    let require_script = document.createElement('script');\r\n",
       "    require_script.setAttribute('src', 'https://cdnjs.cloudflare.com/ajax/libs/require.js/2.3.6/require.min.js');\r\n",
       "    require_script.setAttribute('type', 'text/javascript');\r\n",
       "    \r\n",
       "    \r\n",
       "    require_script.onload = function() {\r\n",
       "        loadDotnetInteractiveApi();\r\n",
       "    };\r\n",
       "\r\n",
       "    document.getElementsByTagName('head')[0].appendChild(require_script);\r\n",
       "}\r\n",
       "else {\r\n",
       "    loadDotnetInteractiveApi();\r\n",
       "}\r\n",
       "\r\n",
       "    </script>\r\n",
       "</div>"
      ]
     },
     "metadata": {},
     "output_type": "display_data"
    },
    {
     "name": "stdout",
     "output_type": "stream",
     "text": [
      "The number of letters in Supercalifragilisticexpialidocious is 34\r\n"
     ]
    }
   ],
   "source": [
    "\n",
    "string word = \"Supercalifragilisticexpialidocious\"; //Assigning string to the variable word\n",
    "int LenWord = word.Length; //getting the length of the word\n",
    "//displaying the number of characters in the word\n",
    "Console.WriteLine (\"The number of letters in Supercalifragilisticexpialidocious is \" +LenWord);\n",
    "\n"
   ]
  },
  {
   "cell_type": "markdown",
   "id": "6f91deda",
   "metadata": {},
   "source": [
    "2b."
   ]
  },
  {
   "cell_type": "code",
   "execution_count": 2,
   "id": "76f6daa1",
   "metadata": {},
   "outputs": [
    {
     "name": "stdout",
     "output_type": "stream",
     "text": [
      "Supercalifragilisticexpialidocious contain 'ice' as a substring. True or False? True\r\n"
     ]
    }
   ],
   "source": [
    "string word = \"Supercalifragilisticexpialidocious\"; //Assigning string to the variable word\n",
    "string SubWord = \"ice\"; //Assigning string to the variable subWord\n",
    "bool result = word.Contains(SubWord); //Check if main word contains the sub word\n",
    "Console.WriteLine (\"Supercalifragilisticexpialidocious contain 'ice' as a substring. True or False? \" + result);\n"
   ]
  },
  {
   "cell_type": "markdown",
   "id": "00b3bff1",
   "metadata": {},
   "source": [
    "2c."
   ]
  },
  {
   "cell_type": "code",
   "execution_count": 4,
   "id": "5a62a46a",
   "metadata": {},
   "outputs": [
    {
     "name": "stdout",
     "output_type": "stream",
     "text": [
      "Supercalifragilisticexpialidocious\r\n"
     ]
    }
   ],
   "source": [
    "\n",
    "var words = new List<string>(); //creating a list\n",
    "//adding words to the list\n",
    "words.Add(\"Supercalifragilisticexpialidocious\"); \n",
    "words.Add(\"Honorificabilitudinitatibus\");\n",
    "words.Add(\"Bababadalgharaghtakamminarronnkonn\");\n",
    "    string word = \"\";\n",
    "//loop though to see if any word is longer than the current word, if it is, variable word assumes the new word.\n",
    "    foreach (string s  in words)\n",
    "\n",
    "        if (s.Length > word.Length)\n",
    "\n",
    "            word = s;\n",
    "\n",
    "\n",
    "//display the longest word\n",
    "    Console.WriteLine(word);\n",
    "           "
   ]
  },
  {
   "cell_type": "markdown",
   "id": "8e5c225e",
   "metadata": {},
   "source": [
    "2d."
   ]
  },
  {
   "cell_type": "code",
   "execution_count": 28,
   "id": "c3d96989",
   "metadata": {},
   "outputs": [
    {
     "name": "stdout",
     "output_type": "stream",
     "text": [
      "Berlioz\n",
      "Bernstein\n"
     ]
    }
   ],
   "source": [
    "SortedDictionary<string, string> composer = new SortedDictionary<string, string>(); //create a disctionary\n",
    "    //Add Keys and Values to the dictionary\n",
    "    composer.Add(\"1\", \"Berlioz\");\n",
    "    composer.Add(\"2\", \"Borodin\");\n",
    "    composer.Add(\"3\", \"Brian\");\n",
    "    composer.Add(\"4\", \"Bartok\");\n",
    "    composer.Add(\"5\", \"Bellini\");\n",
    "    composer.Add(\"6\", \"Buxtehude\");\n",
    "    composer.Add(\"7\", \"Bernstein\");\n",
    "    \n",
    "//Display the first and last word\n",
    "Console.WriteLine(composer[\"1\"]);\n",
    "Console.WriteLine(composer[\"7\"]);"
   ]
  },
  {
   "cell_type": "markdown",
   "id": "73c1fb32",
   "metadata": {},
   "source": [
    "3."
   ]
  },
  {
   "cell_type": "code",
   "execution_count": 6,
   "id": "d3e7fe54",
   "metadata": {},
   "outputs": [
    {
     "name": "stdout",
     "output_type": "stream",
     "text": [
      "1.7320508075688772\r\n"
     ]
    }
   ],
   "source": [
    "void AreaTriangle(int a,int b, int c) //create a method that takes 3 numbers\n",
    "        {\n",
    "        //compute the area of triangle with sides length a, b and c\n",
    "           int x = a + b + c;\n",
    "            double s = x / 2;\n",
    "            double v = s - a;\n",
    "            double u = s - b;\n",
    "            double w = s - c;\n",
    "            double y = s * v;\n",
    "            double z = y * w * u;\n",
    "            double areaT = Math.Sqrt(z);\n",
    "            Console.WriteLine(areaT);\n",
    "\n",
    "        }\n",
    "        \n",
    "        AreaTriangle(2,2,2);"
   ]
  },
  {
   "cell_type": "markdown",
   "id": "5dc3576e",
   "metadata": {},
   "source": [
    "4."
   ]
  },
  {
   "cell_type": "code",
   "execution_count": 21,
   "id": "e400d69e",
   "metadata": {},
   "outputs": [
    {
     "name": "stdout",
     "output_type": "stream",
     "text": [
      "The Even elements are: \n",
      "42\n",
      "56\n",
      "32\n",
      "The Odd elements are: \n",
      "25\n",
      "47\n"
     ]
    }
   ],
   "source": [
    "//Create list to store the even and odd numbers\n",
    "List<int> arrOdd = new List<int>(); \n",
    "List<int> arrEven = new List<int>();\n",
    "\n",
    "    int[] array = new int[5];//create arrays\n",
    "    array[0] = 25;\n",
    "    array[1] = 47;\n",
    "    array[2] = 42;\n",
    "    array[3] = 56;\n",
    "    array[4] = 32;\n",
    "    foreach (int i in array)\n",
    "    {\n",
    "        //condition for if even and odd. Even goes into 1 list, odd goes to the 2nd list\n",
    "        if (i % 2 == 0)\n",
    "        {\n",
    "            arrEven.Add(i);\n",
    "        }\n",
    "        else\n",
    "        {\n",
    "            arrOdd.Add(i);\n",
    "        }\n",
    "    }\n",
    "    //convert the list to array\n",
    "    int[] arrOdd2 = arrOdd.ToArray();\n",
    "    int[] arrEven2 = arrEven.ToArray();\n",
    "    \n",
    "//display content of even and odd arrays\n",
    "Console.WriteLine(\"The Even elements are: \");\n",
    "foreach (int arrayEven in arrEven2)\n",
    "    {\n",
    "        Console.WriteLine(arrayEven);\n",
    "    }\n",
    "    \n",
    "Console.WriteLine(\"The Odd elements are: \");\n",
    "foreach (int arrayOdd in arrOdd2)\n",
    "    {\n",
    "        Console.WriteLine(arrayOdd);\n",
    "    }\n",
    "      \n",
    "         \n",
    "         \n",
    "         "
   ]
  },
  {
   "cell_type": "code",
   "execution_count": null,
   "id": "4d08bebe",
   "metadata": {},
   "outputs": [],
   "source": []
  }
 ],
 "metadata": {
  "kernelspec": {
   "display_name": ".NET (C#)",
   "language": "C#",
   "name": ".net-csharp"
  },
  "language_info": {
   "file_extension": ".cs",
   "mimetype": "text/x-csharp",
   "name": "C#",
   "pygments_lexer": "csharp",
   "version": "9.0"
  }
 },
 "nbformat": 4,
 "nbformat_minor": 5
}
