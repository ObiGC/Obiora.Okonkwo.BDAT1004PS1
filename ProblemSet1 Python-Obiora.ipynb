{
 "cells": [
  {
   "cell_type": "markdown",
   "id": "e5ddb5c3",
   "metadata": {},
   "source": [
    "Question 6"
   ]
  },
  {
   "cell_type": "code",
   "execution_count": 3,
   "id": "d10bc997",
   "metadata": {},
   "outputs": [
    {
     "name": "stdout",
     "output_type": "stream",
     "text": [
      "ondaymay\n",
      "nderuay\n"
     ]
    }
   ],
   "source": [
    "\n",
    "#Function that returns pig-Latin word\n",
    "def pig(word):\n",
    "  vowels = [\"a\", \"e\",\"i\", \"o\", \"u\" ]\n",
    "  if word[0] not in vowels:\n",
    "    pig1 = word[1:6] + word[0] + \"ay\"\n",
    "    pig2 = pig1.lower()\n",
    "    return pig2\n",
    "  else:\n",
    "    pig3 = word + \"way\"\n",
    "    pig4 = pig3.lower()\n",
    "    return pig4\n",
    "\n",
    "\n",
    "print (pig(\"Monday\"))\n",
    "print (pig(\"Under\"))"
   ]
  },
  {
   "cell_type": "markdown",
   "id": "19ccf7f2",
   "metadata": {},
   "source": [
    "Question 7"
   ]
  },
  {
   "cell_type": "code",
   "execution_count": 4,
   "id": "325a724d",
   "metadata": {},
   "outputs": [
    {
     "name": "stdout",
     "output_type": "stream",
     "text": [
      "There are 15 patients of blood type A.\n",
      "There are 1 patients of blood type B.\n",
      "There are 13 patients of blood type AB.\n",
      "There are 15 patients of blood type O.\n",
      "There are 0 patients of blood type OO.\n"
     ]
    }
   ],
   "source": [
    "#Function that reads a file and reports the count of specific items in the file\n",
    "def bldcount(name):\n",
    "    openName = open(name)\n",
    "    content = openName.read()\n",
    "    openName.close()\n",
    "    openNameList = content.split()\n",
    "    bloodTypeA = openNameList.count(\"A\")\n",
    "    bloodTypeB = openNameList.count(\"B\")\n",
    "    bloodTypeAB = openNameList.count(\"AB\")\n",
    "    bloodTypeO = openNameList.count(\"O\")\n",
    "    bloodTypeOO = openNameList.count(\"OO\")\n",
    "    print (\"There are \" + str(bloodTypeA) + \" patients of blood type A.\")\n",
    "    print (\"There are \" + str(bloodTypeB) + \" patients of blood type B.\")\n",
    "    print (\"There are \" + str(bloodTypeAB) + \" patients of blood type AB.\")\n",
    "    print (\"There are \" + str(bloodTypeO) + \" patients of blood type O.\")\n",
    "    print (\"There are \" + str(bloodTypeOO) + \" patients of blood type OO.\")\n",
    "    \n",
    "    \n",
    "(bldcount('bloodtype.txt'))"
   ]
  },
  {
   "cell_type": "markdown",
   "id": "0532d2bd",
   "metadata": {},
   "source": [
    "Question 8"
   ]
  },
  {
   "cell_type": "code",
   "execution_count": 2,
   "id": "8381983b",
   "metadata": {},
   "outputs": [
    {
     "name": "stdout",
     "output_type": "stream",
     "text": [
      "122.96544\n",
      "1.241401\n"
     ]
    }
   ],
   "source": [
    "#Function that picks an exchange rate of a currency from a text file and multiplies by the amount given\n",
    "def curconv(x,y):\n",
    "    openName = open('currencies.txt')\n",
    "    content = openName.readlines()\n",
    "    openName.close()\n",
    "    for line in content:\n",
    "        if x in line:\n",
    "            lineX = line.split() [1]\n",
    "            \n",
    "    return (float(lineX) * y)\n",
    "\n",
    "      \n",
    "            \n",
    "            \n",
    "        \n",
    "            \n",
    "\n",
    "\n",
    "print(curconv(\"EUR\", 100))\n",
    "print(curconv('JPY', 100))\n",
    "    "
   ]
  },
  {
   "cell_type": "markdown",
   "id": "50518cb9",
   "metadata": {},
   "source": [
    "Question 9"
   ]
  },
  {
   "cell_type": "code",
   "execution_count": 32,
   "id": "a7f64bf4",
   "metadata": {},
   "outputs": [
    {
     "ename": "SyntaxError",
     "evalue": "invalid character in identifier (<ipython-input-32-5d92401daa02>, line 1)",
     "output_type": "error",
     "traceback": [
      "\u001b[1;36m  File \u001b[1;32m\"<ipython-input-32-5d92401daa02>\"\u001b[1;36m, line \u001b[1;32m1\u001b[0m\n\u001b[1;33m    6 + ‘a’\u001b[0m\n\u001b[1;37m          ^\u001b[0m\n\u001b[1;31mSyntaxError\u001b[0m\u001b[1;31m:\u001b[0m invalid character in identifier\n"
     ]
    }
   ],
   "source": [
    "#Syntax Error\n",
    "6 + ‘a’"
   ]
  },
  {
   "cell_type": "code",
   "execution_count": 38,
   "id": "40c46ace",
   "metadata": {},
   "outputs": [
    {
     "ename": "SyntaxError",
     "evalue": "invalid syntax (<ipython-input-38-b25b85d816ea>, line 2)",
     "output_type": "error",
     "traceback": [
      "\u001b[1;36m  File \u001b[1;32m\"<ipython-input-38-b25b85d816ea>\"\u001b[1;36m, line \u001b[1;32m2\u001b[0m\n\u001b[1;33m    print list.index(11)\u001b[0m\n\u001b[1;37m          ^\u001b[0m\n\u001b[1;31mSyntaxError\u001b[0m\u001b[1;31m:\u001b[0m invalid syntax\n"
     ]
    }
   ],
   "source": [
    "#Syntax Error\n",
    "list = [1,2,3,4,5,6,7,8,9,10]\n",
    "print list.index(11)\n"
   ]
  },
  {
   "cell_type": "code",
   "execution_count": 39,
   "id": "1639cd16",
   "metadata": {},
   "outputs": [
    {
     "ename": "ValueError",
     "evalue": "math domain error",
     "output_type": "error",
     "traceback": [
      "\u001b[1;31m---------------------------------------------------------------------------\u001b[0m",
      "\u001b[1;31mValueError\u001b[0m                                Traceback (most recent call last)",
      "\u001b[1;32m<ipython-input-39-d39e523296ce>\u001b[0m in \u001b[0;36m<module>\u001b[1;34m\u001b[0m\n\u001b[0;32m      1\u001b[0m \u001b[1;32mimport\u001b[0m \u001b[0mmath\u001b[0m\u001b[1;33m\u001b[0m\u001b[1;33m\u001b[0m\u001b[0m\n\u001b[1;32m----> 2\u001b[1;33m \u001b[0mmath\u001b[0m\u001b[1;33m.\u001b[0m\u001b[0msqrt\u001b[0m\u001b[1;33m(\u001b[0m\u001b[1;33m-\u001b[0m\u001b[1;36m1.0\u001b[0m\u001b[1;33m)\u001b[0m\u001b[1;33m\u001b[0m\u001b[1;33m\u001b[0m\u001b[0m\n\u001b[0m",
      "\u001b[1;31mValueError\u001b[0m: math domain error"
     ]
    }
   ],
   "source": [
    "#Erroneous state error\n",
    "import math\n",
    "math.sqrt(-1.0)"
   ]
  },
  {
   "cell_type": "code",
   "execution_count": 35,
   "id": "d2424141",
   "metadata": {},
   "outputs": [
    {
     "ename": "NameError",
     "evalue": "name 'x' is not defined",
     "output_type": "error",
     "traceback": [
      "\u001b[1;31m---------------------------------------------------------------------------\u001b[0m",
      "\u001b[1;31mNameError\u001b[0m                                 Traceback (most recent call last)",
      "\u001b[1;32m<ipython-input-35-fc17d851ef81>\u001b[0m in \u001b[0;36m<module>\u001b[1;34m\u001b[0m\n\u001b[1;32m----> 1\u001b[1;33m \u001b[0mprint\u001b[0m\u001b[1;33m(\u001b[0m\u001b[0mx\u001b[0m\u001b[1;33m)\u001b[0m\u001b[1;33m\u001b[0m\u001b[1;33m\u001b[0m\u001b[0m\n\u001b[0m",
      "\u001b[1;31mNameError\u001b[0m: name 'x' is not defined"
     ]
    }
   ],
   "source": [
    "#Erroneous state error\n",
    "print(x)\n"
   ]
  },
  {
   "cell_type": "code",
   "execution_count": 37,
   "id": "9901a5ed",
   "metadata": {},
   "outputs": [
    {
     "ename": "FileNotFoundError",
     "evalue": "[Errno 2] No such file or directory: 'currencis.txt'",
     "output_type": "error",
     "traceback": [
      "\u001b[1;31m---------------------------------------------------------------------------\u001b[0m",
      "\u001b[1;31mFileNotFoundError\u001b[0m                         Traceback (most recent call last)",
      "\u001b[1;32m<ipython-input-37-3a7a7d48327a>\u001b[0m in \u001b[0;36m<module>\u001b[1;34m\u001b[0m\n\u001b[1;32m----> 1\u001b[1;33m \u001b[0mopenName\u001b[0m \u001b[1;33m=\u001b[0m \u001b[0mopen\u001b[0m\u001b[1;33m(\u001b[0m\u001b[1;34m'currencis.txt'\u001b[0m\u001b[1;33m)\u001b[0m\u001b[1;33m\u001b[0m\u001b[1;33m\u001b[0m\u001b[0m\n\u001b[0m\u001b[0;32m      2\u001b[0m \u001b[0mcontent\u001b[0m \u001b[1;33m=\u001b[0m \u001b[0mopenName\u001b[0m\u001b[1;33m.\u001b[0m\u001b[0mreadlines\u001b[0m\u001b[1;33m(\u001b[0m\u001b[1;33m)\u001b[0m\u001b[1;33m\u001b[0m\u001b[1;33m\u001b[0m\u001b[0m\n\u001b[0;32m      3\u001b[0m \u001b[0mopenName\u001b[0m\u001b[1;33m.\u001b[0m\u001b[0mclose\u001b[0m\u001b[1;33m(\u001b[0m\u001b[1;33m)\u001b[0m\u001b[1;33m\u001b[0m\u001b[1;33m\u001b[0m\u001b[0m\n",
      "\u001b[1;31mFileNotFoundError\u001b[0m: [Errno 2] No such file or directory: 'currencis.txt'"
     ]
    }
   ],
   "source": [
    "#Erroneous state error\n",
    "openName = open('currencis.txt')\n",
    "content = openName.readlines()\n",
    "openName.close()"
   ]
  },
  {
   "cell_type": "markdown",
   "id": "f5124281",
   "metadata": {},
   "source": [
    "Question 10"
   ]
  },
  {
   "cell_type": "code",
   "execution_count": 1,
   "id": "a62ac9f5",
   "metadata": {},
   "outputs": [
    {
     "name": "stdout",
     "output_type": "stream",
     "text": [
      "[1, 1, 1, 3, 5, 1, 1, 2, 1, 0, 1, 0, 1, 2, 4, 0, 1, 2, 0, 2, 1, 0, 1, 1, 0, 0]\n"
     ]
    }
   ],
   "source": [
    "def frequencies(x):\n",
    "    def convstr(word):\n",
    "        word2 = []\n",
    "        word2[:0] = word\n",
    "        return word2\n",
    "    letters = \"abcdefghijklmnopqrstuvwxyz\"\n",
    "    countX = convstr(x)\n",
    "    letterFreq = []\n",
    "    for i in letters:\n",
    "        if i in countX:\n",
    "            letterFreq.append(x.count(i))\n",
    "        else:\n",
    "            letterFreq.append(0)\n",
    "      \n",
    "            \n",
    "    return letterFreq\n",
    "\n",
    "               \n",
    "print(frequencies(\"apple\"))\n",
    "    \n",
    "    "
   ]
  }
 ],
 "metadata": {
  "kernelspec": {
   "display_name": "Python 3",
   "language": "python",
   "name": "python3"
  },
  "language_info": {
   "codemirror_mode": {
    "name": "ipython",
    "version": 3
   },
   "file_extension": ".py",
   "mimetype": "text/x-python",
   "name": "python",
   "nbconvert_exporter": "python",
   "pygments_lexer": "ipython3",
   "version": "3.8.8"
  }
 },
 "nbformat": 4,
 "nbformat_minor": 5
}
